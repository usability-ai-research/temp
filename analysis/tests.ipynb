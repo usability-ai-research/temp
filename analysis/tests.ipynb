{
 "cells": [
  {
   "cell_type": "code",
   "execution_count": 3,
   "metadata": {},
   "outputs": [],
   "source": [
    "import pandas as pd, numpy as np\n",
    "from scipy.stats import chisquare, wilcoxon, chi2_contingency, spearmanr\n",
    "import pymannkendall as mk"
   ]
  },
  {
   "cell_type": "code",
   "execution_count": 4,
   "metadata": {},
   "outputs": [],
   "source": [
    "data = pd.read_csv('../data/dataset.csv', index_col=0)\n",
    "data['citedByPerYear'] = data['citedBy'] / (2024 - data['year'] + .5)"
   ]
  },
  {
   "cell_type": "code",
   "execution_count": 5,
   "metadata": {},
   "outputs": [
    {
     "data": {
      "text/plain": [
       "Mann_Kendall_Test(trend='no trend', h=np.False_, p=np.float64(0.13226725781299375), z=np.float64(-1.5052210391065617), Tau=np.float64(-0.36363636363636365), s=np.float64(-20.0), var_s=np.float64(159.33333333333334), slope=np.float64(-0.5), intercept=np.float64(6.5))"
      ]
     },
     "execution_count": 5,
     "metadata": {},
     "output_type": "execute_result"
    }
   ],
   "source": [
    "mk.original_test(data[data.AI=='none'][['year']].groupby('year').size().values)"
   ]
  },
  {
   "cell_type": "code",
   "execution_count": 6,
   "metadata": {},
   "outputs": [
    {
     "data": {
      "text/plain": [
       "Mann_Kendall_Test(trend='increasing', h=np.True_, p=np.float64(0.009970028375973383), z=np.float64(2.5768670711620003), Tau=np.float64(0.6181818181818182), s=np.float64(34.0), var_s=np.float64(164.0), slope=np.float64(1.0), intercept=np.float64(2.0))"
      ]
     },
     "execution_count": 6,
     "metadata": {},
     "output_type": "execute_result"
    }
   ],
   "source": [
    "mk.original_test(data[data.AI!='none'][['year']].groupby('year').size().values)"
   ]
  },
  {
   "cell_type": "code",
   "execution_count": 7,
   "metadata": {},
   "outputs": [
    {
     "data": {
      "text/plain": [
       "Mann_Kendall_Test(trend='decreasing', h=np.True_, p=np.float64(0.001076632864587701), z=np.float64(-3.2696955654783966), Tau=np.float64(-0.7818181818181819), s=np.float64(-43.0), var_s=165.0, slope=np.float64(-6.163265306122449), intercept=np.float64(61.816326530612244))"
      ]
     },
     "execution_count": 7,
     "metadata": {},
     "output_type": "execute_result"
    }
   ],
   "source": [
    "mk.original_test(data[['year', 'citedBy']].groupby('year').mean().values)"
   ]
  },
  {
   "cell_type": "code",
   "execution_count": 8,
   "metadata": {},
   "outputs": [
    {
     "data": {
      "text/plain": [
       "Mann_Kendall_Test(trend='no trend', h=np.False_, p=np.float64(0.27575784782750934), z=np.float64(1.0898985218261321), Tau=np.float64(0.2727272727272727), s=np.float64(15.0), var_s=165.0, slope=np.float64(0.21608643457382953), intercept=np.float64(5.534952442515468))"
      ]
     },
     "execution_count": 8,
     "metadata": {},
     "output_type": "execute_result"
    }
   ],
   "source": [
    "mk.original_test(data[['year', 'citedByPerYear']].groupby('year').mean().values)"
   ]
  },
  {
   "cell_type": "code",
   "execution_count": 9,
   "metadata": {},
   "outputs": [
    {
     "data": {
      "text/plain": [
       "Chi2ContingencyResult(statistic=np.float64(6.632637813897489), pvalue=np.float64(0.03628615893612766), dof=2, expected_freq=array([[22.89908257, 12.88073394, 16.22018349],\n",
       "       [25.10091743, 14.11926606, 17.77981651]]))"
      ]
     },
     "execution_count": 9,
     "metadata": {},
     "output_type": "execute_result"
    }
   ],
   "source": [
    "chi2_contingency([\n",
    "    [27, 15, 10],\n",
    "    [21, 12, 24]\n",
    "])"
   ]
  },
  {
   "cell_type": "code",
   "execution_count": 10,
   "metadata": {},
   "outputs": [
    {
     "data": {
      "text/plain": [
       "Mann_Kendall_Test(trend='no trend', h=np.False_, p=np.float64(0.383511901316429), z=np.float64(0.8714437594827463), Tau=np.float64(0.21818181818181817), s=np.float64(12.0), var_s=np.float64(159.33333333333334), slope=np.float64(0.25), intercept=np.float64(6.75))"
      ]
     },
     "execution_count": 10,
     "metadata": {},
     "output_type": "execute_result"
    }
   ],
   "source": [
    "mk.original_test(data[data.participants=='yes'][['year']].groupby('year').size().values)"
   ]
  },
  {
   "cell_type": "code",
   "execution_count": 11,
   "metadata": {},
   "outputs": [
    {
     "data": {
      "text/plain": [
       "Mann_Kendall_Test(trend='no trend', h=np.False_, p=np.float64(0.269873217779931), z=np.float64(1.1033545687347408), Tau=np.float64(0.2727272727272727), s=np.float64(15.0), var_s=np.float64(161.0), slope=np.float64(0.375), intercept=np.float64(2.125))"
      ]
     },
     "execution_count": 11,
     "metadata": {},
     "output_type": "execute_result"
    }
   ],
   "source": [
    "mk.original_test(data[data.participants!='yes'][['year']].groupby('year').size().values)"
   ]
  }
 ],
 "metadata": {
  "kernelspec": {
   "display_name": ".venv",
   "language": "python",
   "name": "python3"
  },
  "language_info": {
   "codemirror_mode": {
    "name": "ipython",
    "version": 3
   },
   "file_extension": ".py",
   "mimetype": "text/x-python",
   "name": "python",
   "nbconvert_exporter": "python",
   "pygments_lexer": "ipython3",
   "version": "3.12.1"
  }
 },
 "nbformat": 4,
 "nbformat_minor": 2
}
